{
 "cells": [
  {
   "cell_type": "markdown",
   "metadata": {},
   "source": [
    "# Sparklyr"
   ]
  },
  {
   "cell_type": "markdown",
   "metadata": {},
   "source": [
    "Load libraries:"
   ]
  },
  {
   "cell_type": "code",
   "execution_count": 2,
   "metadata": {
    "collapsed": true
   },
   "outputs": [],
   "source": [
    "options(rsparkling.sparklingwater.version = \"2.1.0\")"
   ]
  },
  {
   "cell_type": "code",
   "execution_count": 3,
   "metadata": {},
   "outputs": [
    {
     "name": "stderr",
     "output_type": "stream",
     "text": [
      "\n",
      "----------------------------------------------------------------------\n",
      "\n",
      "Your next step is to start H2O:\n",
      "    > h2o.init()\n",
      "\n",
      "For H2O package documentation, ask for help:\n",
      "    > ??h2o\n",
      "\n",
      "After starting H2O, you can use the Web UI at http://localhost:54321\n",
      "For more information visit http://docs.h2o.ai\n",
      "\n",
      "----------------------------------------------------------------------\n",
      "\n",
      "\n",
      "Attaching package: ‘h2o’\n",
      "\n",
      "The following objects are masked from ‘package:stats’:\n",
      "\n",
      "    cor, sd, var\n",
      "\n",
      "The following objects are masked from ‘package:base’:\n",
      "\n",
      "    ||, &&, %*%, apply, as.factor, as.numeric, colnames, colnames<-,\n",
      "    ifelse, %in%, is.character, is.factor, is.numeric, log, log10,\n",
      "    log1p, log2, round, signif, trunc\n",
      "\n",
      "\n",
      "Attaching package: ‘dplyr’\n",
      "\n",
      "The following objects are masked from ‘package:stats’:\n",
      "\n",
      "    filter, lag\n",
      "\n",
      "The following objects are masked from ‘package:base’:\n",
      "\n",
      "    intersect, setdiff, setequal, union\n",
      "\n"
     ]
    }
   ],
   "source": [
    "library(sparklyr)\n",
    "library(rsparkling)\n",
    "library(h2o)\n",
    "library(dplyr)\n",
    "\n",
    "config <- spark_config()\n",
    "config$sparklyr.gateway.port = 8881\n",
    "\n",
    "sc <- spark_connect(master = \"spark://s01:7077\", config=config)"
   ]
  },
  {
   "cell_type": "markdown",
   "metadata": {},
   "source": [
    "# Flights Dataset"
   ]
  },
  {
   "cell_type": "markdown",
   "metadata": {},
   "source": [
    "Load flights parquet file from hdfs:"
   ]
  },
  {
   "cell_type": "code",
   "execution_count": 4,
   "metadata": {
    "collapsed": true
   },
   "outputs": [],
   "source": [
    "flights <- spark_read_parquet(sc, name=\"flights\", path=\"/data/2000.parquet\")"
   ]
  },
  {
   "cell_type": "code",
   "execution_count": 5,
   "metadata": {},
   "outputs": [
    {
     "data": {
      "text/plain": [
       "Source:   query [5.683e+06 x 29]\n",
       "Database: spark connection master=spark://s01:7077 app=sparklyr local=FALSE\n",
       "\n",
       "# A tibble: 5.683e+06 x 29\n",
       "    Year Month DayofMonth DayOfWeek DepTime CRSDepTime ArrTime CRSArrTime\n",
       "   <int> <int>      <int>     <int>   <int>      <int>   <int>      <int>\n",
       " 1  2000     3         10         5    1027       1024    1633       1639\n",
       " 2  2000     3         11         6    1035       1024    1701       1639\n",
       " 3  2000     3         12         7    1026       1024    1639       1639\n",
       " 4  2000     3         13         1    1041       1024    1644       1639\n",
       " 5  2000     3         14         2    1035       1024    1654       1639\n",
       " 6  2000     3         15         3    1107       1024    1715       1639\n",
       " 7  2000     3         16         4    1028       1024    1710       1639\n",
       " 8  2000     3         17         5    1035       1024    1658       1639\n",
       " 9  2000     3         18         6    1150       1024    1807       1639\n",
       "10  2000     3         19         7    1129       1024    1753       1639\n",
       "# ... with 5.683e+06 more rows, and 21 more variables: UniqueCarrier <chr>,\n",
       "#   FlightNum <int>, TailNum <chr>, ActualElapsedTime <int>,\n",
       "#   CRSElapsedTime <int>, AirTime <int>, ArrDelay <int>, DepDelay <int>,\n",
       "#   Origin <chr>, Dest <chr>, Distance <int>, TaxiIn <int>, TaxiOut <int>,\n",
       "#   Cancelled <int>, CancellationCode <chr>, Diverted <int>,\n",
       "#   CarrierDelay <chr>, WeatherDelay <chr>, NASDelay <chr>,\n",
       "#   SecurityDelay <chr>, LateAircraftDelay <chr>"
      ]
     },
     "metadata": {},
     "output_type": "display_data"
    }
   ],
   "source": [
    "flights"
   ]
  },
  {
   "cell_type": "markdown",
   "metadata": {},
   "source": [
    "Create a logical attribute on weather the Departure Delay was longer than 15 minutes, if that's positive then it was delayed:"
   ]
  },
  {
   "cell_type": "code",
   "execution_count": 24,
   "metadata": {},
   "outputs": [
    {
     "name": "stderr",
     "output_type": "stream",
     "text": [
      "* Dropped 187490 rows with 'na.omit' (5683047 => 5495557)\n"
     ]
    }
   ],
   "source": [
    "partitions3 <- flights %>%\n",
    "  select(Month, DayofMonth, DayOfWeek, DepTime, UniqueCarrier, DepDelay, Origin, Dest, Distance) %>%\n",
    "  na.omit() %>%\n",
    "  mutate(Delayed = DepDelay > 15) %>%\n",
    "  ft_string_indexer(input_col = \"UniqueCarrier\", output_col = \"UC\") %>%\n",
    "  ft_string_indexer(input_col = \"Origin\", output_col = \"From\") %>%\n",
    "  ft_string_indexer(input_col = \"Dest\", output_col = \"To\") %>%\n",
    "  sdf_partition(training = 0.7, test = 0.3, seed = 1099)"
   ]
  },
  {
   "cell_type": "markdown",
   "metadata": {},
   "source": [
    "Check curated data that will go through ml:"
   ]
  },
  {
   "cell_type": "code",
   "execution_count": 27,
   "metadata": {},
   "outputs": [
    {
     "data": {
      "text/plain": [
       "$training\n",
       "Source:   query [3.846e+06 x 13]\n",
       "Database: spark connection master=spark://s01:7077 app=sparklyr local=FALSE\n",
       "\n",
       "# A tibble: 3.846e+06 x 13\n",
       "   Month DayofMonth DayOfWeek DepTime UniqueCarrier DepDelay Origin  Dest\n",
       "   <int>      <int>     <int>   <int>         <chr>    <int>  <chr> <chr>\n",
       " 1     3          1         3      40            HP        0    LAS   CMH\n",
       " 2     3          1         3      45            UA      140    ORD   DEN\n",
       " 3     3          1         3      55            DL        0    SLC   CVG\n",
       " 4     3          1         3      56            DL       -5    PHX   CVG\n",
       " 5     3          1         3     128            US       -2    LAS   CLT\n",
       " 6     3          1         3     526            DL       -4    DEN   CVG\n",
       " 7     3          1         3     537            AA       -3    ABQ   DFW\n",
       " 8     3          1         3     549            DL       -1    BOS   CVG\n",
       " 9     3          1         3     550            DL        0    LEX   CVG\n",
       "10     3          1         3     550            DL        0    PWM   CVG\n",
       "# ... with 3.846e+06 more rows, and 5 more variables: Distance <int>,\n",
       "#   Delayed <lgl>, UC <dbl>, From <dbl>, To <dbl>\n",
       "\n",
       "$test\n",
       "Source:   query [1.65e+06 x 13]\n",
       "Database: spark connection master=spark://s01:7077 app=sparklyr local=FALSE\n",
       "\n",
       "# A tibble: 1.65e+06 x 13\n",
       "   Month DayofMonth DayOfWeek DepTime UniqueCarrier DepDelay Origin  Dest\n",
       "   <int>      <int>     <int>   <int>         <chr>    <int>  <chr> <chr>\n",
       " 1     3          1         3     542            DL       -3    BHM   CVG\n",
       " 2     3          1         3     545            US       -5    BWI   CLT\n",
       " 3     3          1         3     554            CO       -6    IND   CLE\n",
       " 4     3          1         3     555            DL       -5    MKE   CVG\n",
       " 5     3          1         3     557            UA       -3    SEA   DEN\n",
       " 6     3          1         3     559            DL       -1    BNA   CVG\n",
       " 7     3          1         3     559            US       -1    JAX   CLT\n",
       " 8     3          1         3     600            DL        0    LGA   CVG\n",
       " 9     3          1         3     601            DL        1    BDL   CVG\n",
       "10     3          1         3     601            UA       -4    DFW   DEN\n",
       "# ... with 1.65e+06 more rows, and 5 more variables: Distance <int>,\n",
       "#   Delayed <lgl>, UC <dbl>, From <dbl>, To <dbl>\n"
      ]
     },
     "metadata": {},
     "output_type": "display_data"
    }
   ],
   "source": [
    "partitions3"
   ]
  },
  {
   "cell_type": "code",
   "execution_count": 28,
   "metadata": {},
   "outputs": [
    {
     "name": "stderr",
     "output_type": "stream",
     "text": [
      "Warning message in h2o.clusterInfo():\n",
      "“\n",
      "Your H2O cluster version is too old (4 months and 11 days)!\n",
      "Please download and install the latest version from http://h2o.ai/download/”Warning message in h2o.clusterInfo():\n",
      "“\n",
      "Your H2O cluster version is too old (4 months and 11 days)!\n",
      "Please download and install the latest version from http://h2o.ai/download/”"
     ]
    }
   ],
   "source": [
    "training <- as_h2o_frame(sc, partitions3$training, strict_version_check = FALSE)\n",
    "test <- as_h2o_frame(sc, partitions3$test, strict_version_check = FALSE)"
   ]
  },
  {
   "cell_type": "markdown",
   "metadata": {},
   "source": [
    "# Logistic Regression"
   ]
  },
  {
   "cell_type": "code",
   "execution_count": 29,
   "metadata": {},
   "outputs": [
    {
     "name": "stdout",
     "output_type": "stream",
     "text": [
      "\r",
      "  |                                                                            \r",
      "  |                                                                      |   0%\r",
      "  |                                                                            \r",
      "  |=                                                                     |   1%\r",
      "  |                                                                            \r",
      "  |=                                                                     |   2%\r",
      "  |                                                                            \r",
      "  |==                                                                    |   3%\r",
      "  |                                                                            \r",
      "  |===                                                                   |   4%\r",
      "  |                                                                            \r",
      "  |====                                                                  |   5%\r",
      "  |                                                                            \r",
      "  |====                                                                  |   6%\r",
      "  |                                                                            \r",
      "  |=====                                                                 |   7%\r",
      "  |                                                                            \r",
      "  |======                                                                |   8%\r",
      "  |                                                                            \r",
      "  |======                                                                |   9%\r",
      "  |                                                                            \r",
      "  |=======                                                               |  10%\r",
      "  |                                                                            \r",
      "  |========                                                              |  11%\r",
      "  |                                                                            \r",
      "  |========                                                              |  12%\r",
      "  |                                                                            \r",
      "  |=========                                                             |  13%\r",
      "  |                                                                            \r",
      "  |==========                                                            |  14%\r",
      "  |                                                                            \r",
      "  |==========                                                            |  15%\r",
      "  |                                                                            \r",
      "  |===========                                                           |  16%\r",
      "  |                                                                            \r",
      "  |=============                                                         |  18%\r",
      "  |                                                                            \r",
      "  |=============                                                         |  19%\r",
      "  |                                                                            \r",
      "  |==============                                                        |  20%\r",
      "  |                                                                            \r",
      "  |===============                                                       |  21%\r",
      "  |                                                                            \r",
      "  |===============                                                       |  22%\r",
      "  |                                                                            \r",
      "  |================                                                      |  23%\r",
      "  |                                                                            \r",
      "  |=================                                                     |  24%\r",
      "  |                                                                            \r",
      "  |==================                                                    |  25%\r",
      "  |                                                                            \r",
      "  |==================                                                    |  26%\r",
      "  |                                                                            \r",
      "  |===================                                                   |  27%\r",
      "  |                                                                            \r",
      "  |====================                                                  |  28%\r",
      "  |                                                                            \r",
      "  |====================                                                  |  29%\r",
      "  |                                                                            \r",
      "  |=====================                                                 |  30%\r",
      "  |                                                                            \r",
      "  |======================                                                |  31%\r",
      "  |                                                                            \r",
      "  |======================                                                |  32%\r",
      "  |                                                                            \r",
      "  |=======================                                               |  33%\r",
      "  |                                                                            \r",
      "  |========================                                              |  34%\r",
      "  |                                                                            \r",
      "  |========================                                              |  35%\r",
      "  |                                                                            \r",
      "  |=========================                                             |  36%\r",
      "  |                                                                            \r",
      "  |==========================                                            |  37%\r",
      "  |                                                                            \r",
      "  |===========================                                           |  38%\r",
      "  |                                                                            \r",
      "  |===========================                                           |  39%\r",
      "  |                                                                            \r",
      "  |============================                                          |  40%\r",
      "  |                                                                            \r",
      "  |=============================                                         |  41%\r",
      "  |                                                                            \r",
      "  |=============================                                         |  42%\r",
      "  |                                                                            \r",
      "  |==============================                                        |  43%\r",
      "  |                                                                            \r",
      "  |===============================                                       |  44%\r",
      "  |                                                                            \r",
      "  |================================                                      |  45%\r",
      "  |                                                                            \r",
      "  |================================                                      |  46%\r",
      "  |                                                                            \r",
      "  |=================================                                     |  47%\r",
      "  |                                                                            \r",
      "  |==================================                                    |  48%\r",
      "  |                                                                            \r",
      "  |==================================                                    |  49%\r",
      "  |                                                                            \r",
      "  |===================================                                   |  50%\r",
      "  |                                                                            \r",
      "  |====================================                                  |  51%\r",
      "  |                                                                            \r",
      "  |====================================                                  |  52%\r",
      "  |                                                                            \r",
      "  |=====================================                                 |  53%\r",
      "  |                                                                            \r",
      "  |======================================                                |  54%\r",
      "  |                                                                            \r",
      "  |======================================                                |  55%\r",
      "  |                                                                            \r",
      "  |=======================================                               |  56%\r",
      "  |                                                                            \r",
      "  |========================================                              |  57%\r",
      "  |                                                                            \r",
      "  |=========================================                             |  58%\r",
      "  |                                                                            \r",
      "  |=========================================                             |  59%\r",
      "  |                                                                            \r",
      "  |==========================================                            |  60%\r",
      "  |                                                                            \r",
      "  |===========================================                           |  61%\r",
      "  |                                                                            \r",
      "  |===========================================                           |  62%\r",
      "  |                                                                            \r",
      "  |============================================                          |  63%\r",
      "  |                                                                            \r",
      "  |=============================================                         |  64%\r",
      "  |                                                                            \r",
      "  |==============================================                        |  65%\r",
      "  |                                                                            \r",
      "  |==============================================                        |  66%\r",
      "  |                                                                            \r",
      "  |===============================================                       |  67%\r",
      "  |                                                                            \r",
      "  |================================================                      |  68%\r",
      "  |                                                                            \r",
      "  |================================================                      |  69%\r",
      "  |                                                                            \r",
      "  |=================================================                     |  70%\r",
      "  |                                                                            \r",
      "  |==================================================                    |  71%\r",
      "  |                                                                            \r",
      "  |==================================================                    |  72%\r",
      "  |                                                                            \r",
      "  |===================================================                   |  73%\r",
      "  |                                                                            \r",
      "  |====================================================                  |  74%\r",
      "  |                                                                            \r",
      "  |====================================================                  |  75%\r",
      "  |                                                                            \r",
      "  |=====================================================                 |  76%\r",
      "  |                                                                            \r",
      "  |======================================================                |  77%\r",
      "  |                                                                            \r",
      "  |=======================================================               |  78%\r",
      "  |                                                                            \r",
      "  |=======================================================               |  79%\r",
      "  |                                                                            \r",
      "  |========================================================              |  80%\r",
      "  |                                                                            \r",
      "  |=========================================================             |  81%\r",
      "  |                                                                            \r",
      "  |=========================================================             |  82%\r",
      "  |                                                                            \r",
      "  |==========================================================            |  83%\r",
      "  |                                                                            \r",
      "  |===========================================================           |  84%\r",
      "  |                                                                            \r",
      "  |============================================================          |  85%\r",
      "  |                                                                            \r",
      "  |============================================================          |  86%\r",
      "  |                                                                            \r",
      "  |=============================================================         |  87%\r",
      "  |                                                                            \r",
      "  |==============================================================        |  88%\r",
      "  |                                                                            \r",
      "  |==============================================================        |  89%\r",
      "  |                                                                            \r",
      "  |===============================================================       |  90%\r",
      "  |                                                                            \r",
      "  |================================================================      |  91%\r",
      "  |                                                                            \r",
      "  |================================================================      |  92%\r",
      "  |                                                                            \r",
      "  |=================================================================     |  93%\r",
      "  |                                                                            \r",
      "  |==================================================================    |  94%\r",
      "  |                                                                            \r",
      "  |==================================================================    |  95%\r",
      "  |                                                                            \r",
      "  |===================================================================   |  96%\r",
      "  |                                                                            \r",
      "  |====================================================================  |  97%\r",
      "  |                                                                            \r",
      "  |===================================================================== |  98%\r",
      "  |                                                                            \r",
      "  |===================================================================== |  99%\r",
      "  |                                                                            \r",
      "  |======================================================================| 100%\n"
     ]
    }
   ],
   "source": [
    "# fit a linear model to the training dataset\n",
    "glm_model <- h2o.glm(x = c(\"Month\", \"DayofMonth\", \"DayOfWeek\", \"DepTime\", \"UC\", \"From\", \"To\", \"Distance\"), \n",
    "                     y = \"Delayed\",\n",
    "                     training_frame = training,\n",
    "                     lambda_search = TRUE)"
   ]
  },
  {
   "cell_type": "code",
   "execution_count": 30,
   "metadata": {},
   "outputs": [
    {
     "name": "stdout",
     "output_type": "stream",
     "text": [
      "Model Details:\n",
      "==============\n",
      "\n",
      "H2ORegressionModel: glm\n",
      "Model Key:  GLM_model_R_1497252297018_2 \n",
      "GLM Model: summary\n",
      "    family     link                                regularization\n",
      "1 gaussian identity Elastic Net (alpha = 0.5, lambda = 1.764E-5 )\n",
      "                                                                 lambda_search\n",
      "1 nlambda = 100, lambda.max = 0.1764, lambda.min = 1.764E-5, lambda.1se = -1.0\n",
      "  number_of_predictors_total number_of_active_predictors number_of_iterations\n",
      "1                          8                           8                    0\n",
      "                                  training_frame\n",
      "1 frame_rdd_220_b806f63db9ea22cd2209b3a111104de1\n",
      "\n",
      "H2ORegressionMetrics: glm\n",
      "** Reported on training data. **\n",
      "\n",
      "MSE:  0.1483828\n",
      "RMSE:  0.3852049\n",
      "MAE:  0.2972921\n",
      "RMSLE:  0.2706393\n",
      "Mean Residual Deviance :  0.1483828\n",
      "R^2 :  0.05669767\n",
      "Null Deviance :604981.3\n",
      "Null D.o.F. :3845998\n",
      "Residual Deviance :570680.3\n",
      "Residual D.o.F. :3845990\n",
      "AIC :3576482\n",
      "\n",
      "\n",
      "\n",
      "\n",
      "\n",
      "Scoring History: \n",
      "            timestamp   duration iteration lambda predictors deviance_train\n",
      "1 2017-06-12 10:38:44  0.000 sec         0  .16E0          2          0.156\n",
      "2 2017-06-12 10:38:45  1.352 sec         0  .15E0          2          0.155\n",
      "3 2017-06-12 10:38:47  2.721 sec         0  .13E0          2          0.154\n",
      "4 2017-06-12 10:38:48  4.329 sec         0  .12E0          2          0.153\n",
      "5 2017-06-12 10:38:50  5.602 sec         0  .11E0          2          0.153\n",
      "\n",
      "---\n",
      "             timestamp          duration iteration lambda predictors\n",
      "94 2017-06-12 10:41:01  2 min 17.101 sec         0 .28E-4          9\n",
      "95 2017-06-12 10:41:03  2 min 18.552 sec         0 .26E-4          9\n",
      "96 2017-06-12 10:41:04  2 min 19.956 sec         0 .23E-4          9\n",
      "97 2017-06-12 10:41:06  2 min 21.418 sec         0 .21E-4          9\n",
      "98 2017-06-12 10:41:07  2 min 22.804 sec         0 .19E-4          9\n",
      "99 2017-06-12 10:41:08  2 min 24.315 sec         0 .18E-4          9\n",
      "   deviance_train\n",
      "94          0.148\n",
      "95          0.148\n",
      "96          0.148\n",
      "97          0.148\n",
      "98          0.148\n",
      "99          0.148\n",
      "\n",
      "Variable Importances: (Extract with `h2o.varimp`) \n",
      "=================================================\n",
      "\n",
      "Standardized Coefficient Magnitudes: standardized coefficient magnitudes\n",
      "       names coefficients sign\n",
      "1    DepTime     0.087294  POS\n",
      "2      Month     0.017957  POS\n",
      "3       From     0.016245  NEG\n",
      "4 DayofMonth     0.014649  POS\n",
      "5  DayOfWeek     0.012942  POS\n",
      "6         UC     0.011521  NEG\n",
      "7         To     0.007544  NEG\n",
      "8   Distance     0.002458  POS\n"
     ]
    }
   ],
   "source": [
    "summary(glm_model)"
   ]
  },
  {
   "cell_type": "markdown",
   "metadata": {},
   "source": [
    "Check prediction quality:"
   ]
  },
  {
   "cell_type": "code",
   "execution_count": 31,
   "metadata": {},
   "outputs": [
    {
     "name": "stdout",
     "output_type": "stream",
     "text": [
      "\r",
      "  |                                                                            \r",
      "  |                                                                      |   0%\r",
      "  |                                                                            \r",
      "  |======================================================================| 100%\n"
     ]
    },
    {
     "name": "stderr",
     "output_type": "stream",
     "text": [
      "Warning message in h2o.clusterInfo():\n",
      "“\n",
      "Your H2O cluster version is too old (4 months and 11 days)!\n",
      "Please download and install the latest version from http://h2o.ai/download/”"
     ]
    }
   ],
   "source": [
    "# compute predicted values on our test dataset\n",
    "pred <- h2o.predict(glm_model, newdata = test)\n",
    "# convert from H2O Frame to Spark DataFrame\n",
    "predicted <- as_spark_dataframe(sc, pred, strict_version_check = FALSE)"
   ]
  },
  {
   "cell_type": "code",
   "execution_count": 33,
   "metadata": {
    "collapsed": true
   },
   "outputs": [],
   "source": [
    "# extract the true 'mpg' values from our test dataset\n",
    "actual <- partitions3$test %>%\n",
    "  select(Delayed) %>%\n",
    "  collect() %>%\n",
    "  `[[`(\"Delayed\")"
   ]
  },
  {
   "cell_type": "code",
   "execution_count": 34,
   "metadata": {
    "collapsed": true
   },
   "outputs": [],
   "source": [
    "# produce a data.frame housing our predicted + actual 'mpg' values\n",
    "data <- data.frame(\n",
    "  predicted = predicted,\n",
    "  actual    = actual\n",
    ")\n",
    "# a bug in data.frame does not set colnames properly; reset here \n",
    "names(data) <- c(\"predicted\", \"actual\")"
   ]
  },
  {
   "cell_type": "code",
   "execution_count": 35,
   "metadata": {
    "scrolled": true
   },
   "outputs": [
    {
     "data": {
      "text/html": [
       "<table>\n",
       "<thead><tr><th scope=col>predicted</th><th scope=col>actual</th></tr></thead>\n",
       "<tbody>\n",
       "\t<tr><td>-0.008328269</td><td>FALSE       </td></tr>\n",
       "\t<tr><td> 0.008605790</td><td>FALSE       </td></tr>\n",
       "\t<tr><td>-0.026688491</td><td>FALSE       </td></tr>\n",
       "\t<tr><td>-0.010840626</td><td>FALSE       </td></tr>\n",
       "\t<tr><td> 0.020674521</td><td>FALSE       </td></tr>\n",
       "\t<tr><td> 0.011347967</td><td>FALSE       </td></tr>\n",
       "\t<tr><td>-0.008663529</td><td>FALSE       </td></tr>\n",
       "\t<tr><td> 0.026300316</td><td>FALSE       </td></tr>\n",
       "\t<tr><td> 0.011671731</td><td>FALSE       </td></tr>\n",
       "\t<tr><td> 0.035242296</td><td>FALSE       </td></tr>\n",
       "\t<tr><td> 0.020342619</td><td>FALSE       </td></tr>\n",
       "\t<tr><td> 0.035580497</td><td>FALSE       </td></tr>\n",
       "\t<tr><td>-0.028942235</td><td>FALSE       </td></tr>\n",
       "\t<tr><td> 0.032714908</td><td>FALSE       </td></tr>\n",
       "\t<tr><td>-0.017247833</td><td>FALSE       </td></tr>\n",
       "\t<tr><td> 0.037223165</td><td>FALSE       </td></tr>\n",
       "\t<tr><td> 0.019440555</td><td>FALSE       </td></tr>\n",
       "\t<tr><td> 0.027381335</td><td>FALSE       </td></tr>\n",
       "\t<tr><td> 0.013090222</td><td>FALSE       </td></tr>\n",
       "\t<tr><td> 0.022591263</td><td>FALSE       </td></tr>\n",
       "\t<tr><td> 0.040907540</td><td>FALSE       </td></tr>\n",
       "\t<tr><td>-0.015489173</td><td>FALSE       </td></tr>\n",
       "\t<tr><td> 0.002387561</td><td>FALSE       </td></tr>\n",
       "\t<tr><td>-0.015556240</td><td>FALSE       </td></tr>\n",
       "\t<tr><td> 0.029094192</td><td>FALSE       </td></tr>\n",
       "\t<tr><td> 0.030828532</td><td>FALSE       </td></tr>\n",
       "\t<tr><td> 0.008246082</td><td>FALSE       </td></tr>\n",
       "\t<tr><td> 0.023903897</td><td>FALSE       </td></tr>\n",
       "\t<tr><td> 0.041354641</td><td>FALSE       </td></tr>\n",
       "\t<tr><td>-0.020081356</td><td>FALSE       </td></tr>\n",
       "\t<tr><td>⋮</td><td>⋮</td></tr>\n",
       "\t<tr><td>0.4324542</td><td> TRUE    </td></tr>\n",
       "\t<tr><td>0.4509141</td><td> TRUE    </td></tr>\n",
       "\t<tr><td>0.4186949</td><td> TRUE    </td></tr>\n",
       "\t<tr><td>0.4443587</td><td>FALSE    </td></tr>\n",
       "\t<tr><td>0.4197275</td><td> TRUE    </td></tr>\n",
       "\t<tr><td>0.4210764</td><td> TRUE    </td></tr>\n",
       "\t<tr><td>0.4680987</td><td> TRUE    </td></tr>\n",
       "\t<tr><td>0.4449774</td><td> TRUE    </td></tr>\n",
       "\t<tr><td>0.4140530</td><td> TRUE    </td></tr>\n",
       "\t<tr><td>0.4382487</td><td> TRUE    </td></tr>\n",
       "\t<tr><td>0.4302153</td><td>FALSE    </td></tr>\n",
       "\t<tr><td>0.4526881</td><td>FALSE    </td></tr>\n",
       "\t<tr><td>0.4416988</td><td> TRUE    </td></tr>\n",
       "\t<tr><td>0.4357016</td><td>FALSE    </td></tr>\n",
       "\t<tr><td>0.4675548</td><td>FALSE    </td></tr>\n",
       "\t<tr><td>0.4640120</td><td>FALSE    </td></tr>\n",
       "\t<tr><td>0.4383546</td><td>FALSE    </td></tr>\n",
       "\t<tr><td>0.4074942</td><td> TRUE    </td></tr>\n",
       "\t<tr><td>0.4543430</td><td>FALSE    </td></tr>\n",
       "\t<tr><td>0.4126820</td><td>FALSE    </td></tr>\n",
       "\t<tr><td>0.4526061</td><td> TRUE    </td></tr>\n",
       "\t<tr><td>0.4334783</td><td>FALSE    </td></tr>\n",
       "\t<tr><td>0.4415566</td><td>FALSE    </td></tr>\n",
       "\t<tr><td>0.4701923</td><td>FALSE    </td></tr>\n",
       "\t<tr><td>0.4438869</td><td>FALSE    </td></tr>\n",
       "\t<tr><td>0.4544155</td><td>FALSE    </td></tr>\n",
       "\t<tr><td>0.4662708</td><td>FALSE    </td></tr>\n",
       "\t<tr><td>0.4416005</td><td> TRUE    </td></tr>\n",
       "\t<tr><td>0.4371556</td><td>FALSE    </td></tr>\n",
       "\t<tr><td>0.4799905</td><td> TRUE    </td></tr>\n",
       "</tbody>\n",
       "</table>\n"
      ],
      "text/latex": [
       "\\begin{tabular}{r|ll}\n",
       " predicted & actual\\\\\n",
       "\\hline\n",
       "\t -0.008328269 & FALSE       \\\\\n",
       "\t  0.008605790 & FALSE       \\\\\n",
       "\t -0.026688491 & FALSE       \\\\\n",
       "\t -0.010840626 & FALSE       \\\\\n",
       "\t  0.020674521 & FALSE       \\\\\n",
       "\t  0.011347967 & FALSE       \\\\\n",
       "\t -0.008663529 & FALSE       \\\\\n",
       "\t  0.026300316 & FALSE       \\\\\n",
       "\t  0.011671731 & FALSE       \\\\\n",
       "\t  0.035242296 & FALSE       \\\\\n",
       "\t  0.020342619 & FALSE       \\\\\n",
       "\t  0.035580497 & FALSE       \\\\\n",
       "\t -0.028942235 & FALSE       \\\\\n",
       "\t  0.032714908 & FALSE       \\\\\n",
       "\t -0.017247833 & FALSE       \\\\\n",
       "\t  0.037223165 & FALSE       \\\\\n",
       "\t  0.019440555 & FALSE       \\\\\n",
       "\t  0.027381335 & FALSE       \\\\\n",
       "\t  0.013090222 & FALSE       \\\\\n",
       "\t  0.022591263 & FALSE       \\\\\n",
       "\t  0.040907540 & FALSE       \\\\\n",
       "\t -0.015489173 & FALSE       \\\\\n",
       "\t  0.002387561 & FALSE       \\\\\n",
       "\t -0.015556240 & FALSE       \\\\\n",
       "\t  0.029094192 & FALSE       \\\\\n",
       "\t  0.030828532 & FALSE       \\\\\n",
       "\t  0.008246082 & FALSE       \\\\\n",
       "\t  0.023903897 & FALSE       \\\\\n",
       "\t  0.041354641 & FALSE       \\\\\n",
       "\t -0.020081356 & FALSE       \\\\\n",
       "\t ⋮ & ⋮\\\\\n",
       "\t 0.4324542 &  TRUE    \\\\\n",
       "\t 0.4509141 &  TRUE    \\\\\n",
       "\t 0.4186949 &  TRUE    \\\\\n",
       "\t 0.4443587 & FALSE    \\\\\n",
       "\t 0.4197275 &  TRUE    \\\\\n",
       "\t 0.4210764 &  TRUE    \\\\\n",
       "\t 0.4680987 &  TRUE    \\\\\n",
       "\t 0.4449774 &  TRUE    \\\\\n",
       "\t 0.4140530 &  TRUE    \\\\\n",
       "\t 0.4382487 &  TRUE    \\\\\n",
       "\t 0.4302153 & FALSE    \\\\\n",
       "\t 0.4526881 & FALSE    \\\\\n",
       "\t 0.4416988 &  TRUE    \\\\\n",
       "\t 0.4357016 & FALSE    \\\\\n",
       "\t 0.4675548 & FALSE    \\\\\n",
       "\t 0.4640120 & FALSE    \\\\\n",
       "\t 0.4383546 & FALSE    \\\\\n",
       "\t 0.4074942 &  TRUE    \\\\\n",
       "\t 0.4543430 & FALSE    \\\\\n",
       "\t 0.4126820 & FALSE    \\\\\n",
       "\t 0.4526061 &  TRUE    \\\\\n",
       "\t 0.4334783 & FALSE    \\\\\n",
       "\t 0.4415566 & FALSE    \\\\\n",
       "\t 0.4701923 & FALSE    \\\\\n",
       "\t 0.4438869 & FALSE    \\\\\n",
       "\t 0.4544155 & FALSE    \\\\\n",
       "\t 0.4662708 & FALSE    \\\\\n",
       "\t 0.4416005 &  TRUE    \\\\\n",
       "\t 0.4371556 & FALSE    \\\\\n",
       "\t 0.4799905 &  TRUE    \\\\\n",
       "\\end{tabular}\n"
      ],
      "text/markdown": [
       "\n",
       "predicted | actual | \n",
       "|---|---|---|---|---|---|---|---|---|---|---|---|---|---|---|---|---|---|---|---|---|---|---|---|---|---|---|---|---|---|---|---|---|---|---|---|---|---|---|---|---|---|---|---|---|---|---|---|---|---|---|---|---|---|---|---|---|---|---|---|---|\n",
       "| -0.008328269 | FALSE        | \n",
       "|  0.008605790 | FALSE        | \n",
       "| -0.026688491 | FALSE        | \n",
       "| -0.010840626 | FALSE        | \n",
       "|  0.020674521 | FALSE        | \n",
       "|  0.011347967 | FALSE        | \n",
       "| -0.008663529 | FALSE        | \n",
       "|  0.026300316 | FALSE        | \n",
       "|  0.011671731 | FALSE        | \n",
       "|  0.035242296 | FALSE        | \n",
       "|  0.020342619 | FALSE        | \n",
       "|  0.035580497 | FALSE        | \n",
       "| -0.028942235 | FALSE        | \n",
       "|  0.032714908 | FALSE        | \n",
       "| -0.017247833 | FALSE        | \n",
       "|  0.037223165 | FALSE        | \n",
       "|  0.019440555 | FALSE        | \n",
       "|  0.027381335 | FALSE        | \n",
       "|  0.013090222 | FALSE        | \n",
       "|  0.022591263 | FALSE        | \n",
       "|  0.040907540 | FALSE        | \n",
       "| -0.015489173 | FALSE        | \n",
       "|  0.002387561 | FALSE        | \n",
       "| -0.015556240 | FALSE        | \n",
       "|  0.029094192 | FALSE        | \n",
       "|  0.030828532 | FALSE        | \n",
       "|  0.008246082 | FALSE        | \n",
       "|  0.023903897 | FALSE        | \n",
       "|  0.041354641 | FALSE        | \n",
       "| -0.020081356 | FALSE        | \n",
       "| ⋮ | ⋮ | \n",
       "| 0.4324542 |  TRUE     | \n",
       "| 0.4509141 |  TRUE     | \n",
       "| 0.4186949 |  TRUE     | \n",
       "| 0.4443587 | FALSE     | \n",
       "| 0.4197275 |  TRUE     | \n",
       "| 0.4210764 |  TRUE     | \n",
       "| 0.4680987 |  TRUE     | \n",
       "| 0.4449774 |  TRUE     | \n",
       "| 0.4140530 |  TRUE     | \n",
       "| 0.4382487 |  TRUE     | \n",
       "| 0.4302153 | FALSE     | \n",
       "| 0.4526881 | FALSE     | \n",
       "| 0.4416988 |  TRUE     | \n",
       "| 0.4357016 | FALSE     | \n",
       "| 0.4675548 | FALSE     | \n",
       "| 0.4640120 | FALSE     | \n",
       "| 0.4383546 | FALSE     | \n",
       "| 0.4074942 |  TRUE     | \n",
       "| 0.4543430 | FALSE     | \n",
       "| 0.4126820 | FALSE     | \n",
       "| 0.4526061 |  TRUE     | \n",
       "| 0.4334783 | FALSE     | \n",
       "| 0.4415566 | FALSE     | \n",
       "| 0.4701923 | FALSE     | \n",
       "| 0.4438869 | FALSE     | \n",
       "| 0.4544155 | FALSE     | \n",
       "| 0.4662708 | FALSE     | \n",
       "| 0.4416005 |  TRUE     | \n",
       "| 0.4371556 | FALSE     | \n",
       "| 0.4799905 |  TRUE     | \n",
       "\n",
       "\n"
      ],
      "text/plain": [
       "        predicted    actual\n",
       "1       -0.008328269 FALSE \n",
       "2        0.008605790 FALSE \n",
       "3       -0.026688491 FALSE \n",
       "4       -0.010840626 FALSE \n",
       "5        0.020674521 FALSE \n",
       "6        0.011347967 FALSE \n",
       "7       -0.008663529 FALSE \n",
       "8        0.026300316 FALSE \n",
       "9        0.011671731 FALSE \n",
       "10       0.035242296 FALSE \n",
       "11       0.020342619 FALSE \n",
       "12       0.035580497 FALSE \n",
       "13      -0.028942235 FALSE \n",
       "14       0.032714908 FALSE \n",
       "15      -0.017247833 FALSE \n",
       "16       0.037223165 FALSE \n",
       "17       0.019440555 FALSE \n",
       "18       0.027381335 FALSE \n",
       "19       0.013090222 FALSE \n",
       "20       0.022591263 FALSE \n",
       "21       0.040907540 FALSE \n",
       "22      -0.015489173 FALSE \n",
       "23       0.002387561 FALSE \n",
       "24      -0.015556240 FALSE \n",
       "25       0.029094192 FALSE \n",
       "26       0.030828532 FALSE \n",
       "27       0.008246082 FALSE \n",
       "28       0.023903897 FALSE \n",
       "29       0.041354641 FALSE \n",
       "30      -0.020081356 FALSE \n",
       "⋮       ⋮            ⋮     \n",
       "1649529 0.4324542     TRUE \n",
       "1649530 0.4509141     TRUE \n",
       "1649531 0.4186949     TRUE \n",
       "1649532 0.4443587    FALSE \n",
       "1649533 0.4197275     TRUE \n",
       "1649534 0.4210764     TRUE \n",
       "1649535 0.4680987     TRUE \n",
       "1649536 0.4449774     TRUE \n",
       "1649537 0.4140530     TRUE \n",
       "1649538 0.4382487     TRUE \n",
       "1649539 0.4302153    FALSE \n",
       "1649540 0.4526881    FALSE \n",
       "1649541 0.4416988     TRUE \n",
       "1649542 0.4357016    FALSE \n",
       "1649543 0.4675548    FALSE \n",
       "1649544 0.4640120    FALSE \n",
       "1649545 0.4383546    FALSE \n",
       "1649546 0.4074942     TRUE \n",
       "1649547 0.4543430    FALSE \n",
       "1649548 0.4126820    FALSE \n",
       "1649549 0.4526061     TRUE \n",
       "1649550 0.4334783    FALSE \n",
       "1649551 0.4415566    FALSE \n",
       "1649552 0.4701923    FALSE \n",
       "1649553 0.4438869    FALSE \n",
       "1649554 0.4544155    FALSE \n",
       "1649555 0.4662708    FALSE \n",
       "1649556 0.4416005     TRUE \n",
       "1649557 0.4371556    FALSE \n",
       "1649558 0.4799905     TRUE "
      ]
     },
     "metadata": {},
     "output_type": "display_data"
    }
   ],
   "source": [
    "data"
   ]
  },
  {
   "cell_type": "code",
   "execution_count": 41,
   "metadata": {
    "collapsed": true
   },
   "outputs": [],
   "source": [
    "desision_point <- (max(data$predicted)-min(data$predicted))/2 +min(data$predicted)"
   ]
  },
  {
   "cell_type": "code",
   "execution_count": 42,
   "metadata": {},
   "outputs": [
    {
     "data": {
      "text/html": [
       "0.144136492432312"
      ],
      "text/latex": [
       "0.144136492432312"
      ],
      "text/markdown": [
       "0.144136492432312"
      ],
      "text/plain": [
       "[1] 0.1441365"
      ]
     },
     "metadata": {},
     "output_type": "display_data"
    }
   ],
   "source": [
    "desision_point"
   ]
  },
  {
   "cell_type": "code",
   "execution_count": 45,
   "metadata": {
    "collapsed": true
   },
   "outputs": [],
   "source": [
    "data$pr_bin <- if_else(data$predicted > desision_point, 1, 0, missing = NULL)"
   ]
  },
  {
   "cell_type": "code",
   "execution_count": 46,
   "metadata": {
    "scrolled": true
   },
   "outputs": [
    {
     "data": {
      "text/html": [
       "<table>\n",
       "<thead><tr><th scope=col>predicted</th><th scope=col>actual</th><th scope=col>pr_bin</th></tr></thead>\n",
       "<tbody>\n",
       "\t<tr><td>-0.008328269</td><td>FALSE       </td><td>0           </td></tr>\n",
       "\t<tr><td> 0.008605790</td><td>FALSE       </td><td>0           </td></tr>\n",
       "\t<tr><td>-0.026688491</td><td>FALSE       </td><td>0           </td></tr>\n",
       "\t<tr><td>-0.010840626</td><td>FALSE       </td><td>0           </td></tr>\n",
       "\t<tr><td> 0.020674521</td><td>FALSE       </td><td>0           </td></tr>\n",
       "\t<tr><td> 0.011347967</td><td>FALSE       </td><td>0           </td></tr>\n",
       "\t<tr><td>-0.008663529</td><td>FALSE       </td><td>0           </td></tr>\n",
       "\t<tr><td> 0.026300316</td><td>FALSE       </td><td>0           </td></tr>\n",
       "\t<tr><td> 0.011671731</td><td>FALSE       </td><td>0           </td></tr>\n",
       "\t<tr><td> 0.035242296</td><td>FALSE       </td><td>0           </td></tr>\n",
       "\t<tr><td> 0.020342619</td><td>FALSE       </td><td>0           </td></tr>\n",
       "\t<tr><td> 0.035580497</td><td>FALSE       </td><td>0           </td></tr>\n",
       "\t<tr><td>-0.028942235</td><td>FALSE       </td><td>0           </td></tr>\n",
       "\t<tr><td> 0.032714908</td><td>FALSE       </td><td>0           </td></tr>\n",
       "\t<tr><td>-0.017247833</td><td>FALSE       </td><td>0           </td></tr>\n",
       "\t<tr><td> 0.037223165</td><td>FALSE       </td><td>0           </td></tr>\n",
       "\t<tr><td> 0.019440555</td><td>FALSE       </td><td>0           </td></tr>\n",
       "\t<tr><td> 0.027381335</td><td>FALSE       </td><td>0           </td></tr>\n",
       "\t<tr><td> 0.013090222</td><td>FALSE       </td><td>0           </td></tr>\n",
       "\t<tr><td> 0.022591263</td><td>FALSE       </td><td>0           </td></tr>\n",
       "\t<tr><td> 0.040907540</td><td>FALSE       </td><td>0           </td></tr>\n",
       "\t<tr><td>-0.015489173</td><td>FALSE       </td><td>0           </td></tr>\n",
       "\t<tr><td> 0.002387561</td><td>FALSE       </td><td>0           </td></tr>\n",
       "\t<tr><td>-0.015556240</td><td>FALSE       </td><td>0           </td></tr>\n",
       "\t<tr><td> 0.029094192</td><td>FALSE       </td><td>0           </td></tr>\n",
       "\t<tr><td> 0.030828532</td><td>FALSE       </td><td>0           </td></tr>\n",
       "\t<tr><td> 0.008246082</td><td>FALSE       </td><td>0           </td></tr>\n",
       "\t<tr><td> 0.023903897</td><td>FALSE       </td><td>0           </td></tr>\n",
       "\t<tr><td> 0.041354641</td><td>FALSE       </td><td>0           </td></tr>\n",
       "\t<tr><td>-0.020081356</td><td>FALSE       </td><td>0           </td></tr>\n",
       "\t<tr><td>⋮</td><td>⋮</td><td>⋮</td></tr>\n",
       "\t<tr><td>0.4324542</td><td> TRUE    </td><td>1        </td></tr>\n",
       "\t<tr><td>0.4509141</td><td> TRUE    </td><td>1        </td></tr>\n",
       "\t<tr><td>0.4186949</td><td> TRUE    </td><td>1        </td></tr>\n",
       "\t<tr><td>0.4443587</td><td>FALSE    </td><td>1        </td></tr>\n",
       "\t<tr><td>0.4197275</td><td> TRUE    </td><td>1        </td></tr>\n",
       "\t<tr><td>0.4210764</td><td> TRUE    </td><td>1        </td></tr>\n",
       "\t<tr><td>0.4680987</td><td> TRUE    </td><td>1        </td></tr>\n",
       "\t<tr><td>0.4449774</td><td> TRUE    </td><td>1        </td></tr>\n",
       "\t<tr><td>0.4140530</td><td> TRUE    </td><td>1        </td></tr>\n",
       "\t<tr><td>0.4382487</td><td> TRUE    </td><td>1        </td></tr>\n",
       "\t<tr><td>0.4302153</td><td>FALSE    </td><td>1        </td></tr>\n",
       "\t<tr><td>0.4526881</td><td>FALSE    </td><td>1        </td></tr>\n",
       "\t<tr><td>0.4416988</td><td> TRUE    </td><td>1        </td></tr>\n",
       "\t<tr><td>0.4357016</td><td>FALSE    </td><td>1        </td></tr>\n",
       "\t<tr><td>0.4675548</td><td>FALSE    </td><td>1        </td></tr>\n",
       "\t<tr><td>0.4640120</td><td>FALSE    </td><td>1        </td></tr>\n",
       "\t<tr><td>0.4383546</td><td>FALSE    </td><td>1        </td></tr>\n",
       "\t<tr><td>0.4074942</td><td> TRUE    </td><td>1        </td></tr>\n",
       "\t<tr><td>0.4543430</td><td>FALSE    </td><td>1        </td></tr>\n",
       "\t<tr><td>0.4126820</td><td>FALSE    </td><td>1        </td></tr>\n",
       "\t<tr><td>0.4526061</td><td> TRUE    </td><td>1        </td></tr>\n",
       "\t<tr><td>0.4334783</td><td>FALSE    </td><td>1        </td></tr>\n",
       "\t<tr><td>0.4415566</td><td>FALSE    </td><td>1        </td></tr>\n",
       "\t<tr><td>0.4701923</td><td>FALSE    </td><td>1        </td></tr>\n",
       "\t<tr><td>0.4438869</td><td>FALSE    </td><td>1        </td></tr>\n",
       "\t<tr><td>0.4544155</td><td>FALSE    </td><td>1        </td></tr>\n",
       "\t<tr><td>0.4662708</td><td>FALSE    </td><td>1        </td></tr>\n",
       "\t<tr><td>0.4416005</td><td> TRUE    </td><td>1        </td></tr>\n",
       "\t<tr><td>0.4371556</td><td>FALSE    </td><td>1        </td></tr>\n",
       "\t<tr><td>0.4799905</td><td> TRUE    </td><td>1        </td></tr>\n",
       "</tbody>\n",
       "</table>\n"
      ],
      "text/latex": [
       "\\begin{tabular}{r|lll}\n",
       " predicted & actual & pr\\_bin\\\\\n",
       "\\hline\n",
       "\t -0.008328269 & FALSE        & 0           \\\\\n",
       "\t  0.008605790 & FALSE        & 0           \\\\\n",
       "\t -0.026688491 & FALSE        & 0           \\\\\n",
       "\t -0.010840626 & FALSE        & 0           \\\\\n",
       "\t  0.020674521 & FALSE        & 0           \\\\\n",
       "\t  0.011347967 & FALSE        & 0           \\\\\n",
       "\t -0.008663529 & FALSE        & 0           \\\\\n",
       "\t  0.026300316 & FALSE        & 0           \\\\\n",
       "\t  0.011671731 & FALSE        & 0           \\\\\n",
       "\t  0.035242296 & FALSE        & 0           \\\\\n",
       "\t  0.020342619 & FALSE        & 0           \\\\\n",
       "\t  0.035580497 & FALSE        & 0           \\\\\n",
       "\t -0.028942235 & FALSE        & 0           \\\\\n",
       "\t  0.032714908 & FALSE        & 0           \\\\\n",
       "\t -0.017247833 & FALSE        & 0           \\\\\n",
       "\t  0.037223165 & FALSE        & 0           \\\\\n",
       "\t  0.019440555 & FALSE        & 0           \\\\\n",
       "\t  0.027381335 & FALSE        & 0           \\\\\n",
       "\t  0.013090222 & FALSE        & 0           \\\\\n",
       "\t  0.022591263 & FALSE        & 0           \\\\\n",
       "\t  0.040907540 & FALSE        & 0           \\\\\n",
       "\t -0.015489173 & FALSE        & 0           \\\\\n",
       "\t  0.002387561 & FALSE        & 0           \\\\\n",
       "\t -0.015556240 & FALSE        & 0           \\\\\n",
       "\t  0.029094192 & FALSE        & 0           \\\\\n",
       "\t  0.030828532 & FALSE        & 0           \\\\\n",
       "\t  0.008246082 & FALSE        & 0           \\\\\n",
       "\t  0.023903897 & FALSE        & 0           \\\\\n",
       "\t  0.041354641 & FALSE        & 0           \\\\\n",
       "\t -0.020081356 & FALSE        & 0           \\\\\n",
       "\t ⋮ & ⋮ & ⋮\\\\\n",
       "\t 0.4324542 &  TRUE     & 1        \\\\\n",
       "\t 0.4509141 &  TRUE     & 1        \\\\\n",
       "\t 0.4186949 &  TRUE     & 1        \\\\\n",
       "\t 0.4443587 & FALSE     & 1        \\\\\n",
       "\t 0.4197275 &  TRUE     & 1        \\\\\n",
       "\t 0.4210764 &  TRUE     & 1        \\\\\n",
       "\t 0.4680987 &  TRUE     & 1        \\\\\n",
       "\t 0.4449774 &  TRUE     & 1        \\\\\n",
       "\t 0.4140530 &  TRUE     & 1        \\\\\n",
       "\t 0.4382487 &  TRUE     & 1        \\\\\n",
       "\t 0.4302153 & FALSE     & 1        \\\\\n",
       "\t 0.4526881 & FALSE     & 1        \\\\\n",
       "\t 0.4416988 &  TRUE     & 1        \\\\\n",
       "\t 0.4357016 & FALSE     & 1        \\\\\n",
       "\t 0.4675548 & FALSE     & 1        \\\\\n",
       "\t 0.4640120 & FALSE     & 1        \\\\\n",
       "\t 0.4383546 & FALSE     & 1        \\\\\n",
       "\t 0.4074942 &  TRUE     & 1        \\\\\n",
       "\t 0.4543430 & FALSE     & 1        \\\\\n",
       "\t 0.4126820 & FALSE     & 1        \\\\\n",
       "\t 0.4526061 &  TRUE     & 1        \\\\\n",
       "\t 0.4334783 & FALSE     & 1        \\\\\n",
       "\t 0.4415566 & FALSE     & 1        \\\\\n",
       "\t 0.4701923 & FALSE     & 1        \\\\\n",
       "\t 0.4438869 & FALSE     & 1        \\\\\n",
       "\t 0.4544155 & FALSE     & 1        \\\\\n",
       "\t 0.4662708 & FALSE     & 1        \\\\\n",
       "\t 0.4416005 &  TRUE     & 1        \\\\\n",
       "\t 0.4371556 & FALSE     & 1        \\\\\n",
       "\t 0.4799905 &  TRUE     & 1        \\\\\n",
       "\\end{tabular}\n"
      ],
      "text/markdown": [
       "\n",
       "predicted | actual | pr_bin | \n",
       "|---|---|---|---|---|---|---|---|---|---|---|---|---|---|---|---|---|---|---|---|---|---|---|---|---|---|---|---|---|---|---|---|---|---|---|---|---|---|---|---|---|---|---|---|---|---|---|---|---|---|---|---|---|---|---|---|---|---|---|---|---|\n",
       "| -0.008328269 | FALSE        | 0            | \n",
       "|  0.008605790 | FALSE        | 0            | \n",
       "| -0.026688491 | FALSE        | 0            | \n",
       "| -0.010840626 | FALSE        | 0            | \n",
       "|  0.020674521 | FALSE        | 0            | \n",
       "|  0.011347967 | FALSE        | 0            | \n",
       "| -0.008663529 | FALSE        | 0            | \n",
       "|  0.026300316 | FALSE        | 0            | \n",
       "|  0.011671731 | FALSE        | 0            | \n",
       "|  0.035242296 | FALSE        | 0            | \n",
       "|  0.020342619 | FALSE        | 0            | \n",
       "|  0.035580497 | FALSE        | 0            | \n",
       "| -0.028942235 | FALSE        | 0            | \n",
       "|  0.032714908 | FALSE        | 0            | \n",
       "| -0.017247833 | FALSE        | 0            | \n",
       "|  0.037223165 | FALSE        | 0            | \n",
       "|  0.019440555 | FALSE        | 0            | \n",
       "|  0.027381335 | FALSE        | 0            | \n",
       "|  0.013090222 | FALSE        | 0            | \n",
       "|  0.022591263 | FALSE        | 0            | \n",
       "|  0.040907540 | FALSE        | 0            | \n",
       "| -0.015489173 | FALSE        | 0            | \n",
       "|  0.002387561 | FALSE        | 0            | \n",
       "| -0.015556240 | FALSE        | 0            | \n",
       "|  0.029094192 | FALSE        | 0            | \n",
       "|  0.030828532 | FALSE        | 0            | \n",
       "|  0.008246082 | FALSE        | 0            | \n",
       "|  0.023903897 | FALSE        | 0            | \n",
       "|  0.041354641 | FALSE        | 0            | \n",
       "| -0.020081356 | FALSE        | 0            | \n",
       "| ⋮ | ⋮ | ⋮ | \n",
       "| 0.4324542 |  TRUE     | 1         | \n",
       "| 0.4509141 |  TRUE     | 1         | \n",
       "| 0.4186949 |  TRUE     | 1         | \n",
       "| 0.4443587 | FALSE     | 1         | \n",
       "| 0.4197275 |  TRUE     | 1         | \n",
       "| 0.4210764 |  TRUE     | 1         | \n",
       "| 0.4680987 |  TRUE     | 1         | \n",
       "| 0.4449774 |  TRUE     | 1         | \n",
       "| 0.4140530 |  TRUE     | 1         | \n",
       "| 0.4382487 |  TRUE     | 1         | \n",
       "| 0.4302153 | FALSE     | 1         | \n",
       "| 0.4526881 | FALSE     | 1         | \n",
       "| 0.4416988 |  TRUE     | 1         | \n",
       "| 0.4357016 | FALSE     | 1         | \n",
       "| 0.4675548 | FALSE     | 1         | \n",
       "| 0.4640120 | FALSE     | 1         | \n",
       "| 0.4383546 | FALSE     | 1         | \n",
       "| 0.4074942 |  TRUE     | 1         | \n",
       "| 0.4543430 | FALSE     | 1         | \n",
       "| 0.4126820 | FALSE     | 1         | \n",
       "| 0.4526061 |  TRUE     | 1         | \n",
       "| 0.4334783 | FALSE     | 1         | \n",
       "| 0.4415566 | FALSE     | 1         | \n",
       "| 0.4701923 | FALSE     | 1         | \n",
       "| 0.4438869 | FALSE     | 1         | \n",
       "| 0.4544155 | FALSE     | 1         | \n",
       "| 0.4662708 | FALSE     | 1         | \n",
       "| 0.4416005 |  TRUE     | 1         | \n",
       "| 0.4371556 | FALSE     | 1         | \n",
       "| 0.4799905 |  TRUE     | 1         | \n",
       "\n",
       "\n"
      ],
      "text/plain": [
       "        predicted    actual pr_bin\n",
       "1       -0.008328269 FALSE  0     \n",
       "2        0.008605790 FALSE  0     \n",
       "3       -0.026688491 FALSE  0     \n",
       "4       -0.010840626 FALSE  0     \n",
       "5        0.020674521 FALSE  0     \n",
       "6        0.011347967 FALSE  0     \n",
       "7       -0.008663529 FALSE  0     \n",
       "8        0.026300316 FALSE  0     \n",
       "9        0.011671731 FALSE  0     \n",
       "10       0.035242296 FALSE  0     \n",
       "11       0.020342619 FALSE  0     \n",
       "12       0.035580497 FALSE  0     \n",
       "13      -0.028942235 FALSE  0     \n",
       "14       0.032714908 FALSE  0     \n",
       "15      -0.017247833 FALSE  0     \n",
       "16       0.037223165 FALSE  0     \n",
       "17       0.019440555 FALSE  0     \n",
       "18       0.027381335 FALSE  0     \n",
       "19       0.013090222 FALSE  0     \n",
       "20       0.022591263 FALSE  0     \n",
       "21       0.040907540 FALSE  0     \n",
       "22      -0.015489173 FALSE  0     \n",
       "23       0.002387561 FALSE  0     \n",
       "24      -0.015556240 FALSE  0     \n",
       "25       0.029094192 FALSE  0     \n",
       "26       0.030828532 FALSE  0     \n",
       "27       0.008246082 FALSE  0     \n",
       "28       0.023903897 FALSE  0     \n",
       "29       0.041354641 FALSE  0     \n",
       "30      -0.020081356 FALSE  0     \n",
       "⋮       ⋮            ⋮      ⋮     \n",
       "1649529 0.4324542     TRUE  1     \n",
       "1649530 0.4509141     TRUE  1     \n",
       "1649531 0.4186949     TRUE  1     \n",
       "1649532 0.4443587    FALSE  1     \n",
       "1649533 0.4197275     TRUE  1     \n",
       "1649534 0.4210764     TRUE  1     \n",
       "1649535 0.4680987     TRUE  1     \n",
       "1649536 0.4449774     TRUE  1     \n",
       "1649537 0.4140530     TRUE  1     \n",
       "1649538 0.4382487     TRUE  1     \n",
       "1649539 0.4302153    FALSE  1     \n",
       "1649540 0.4526881    FALSE  1     \n",
       "1649541 0.4416988     TRUE  1     \n",
       "1649542 0.4357016    FALSE  1     \n",
       "1649543 0.4675548    FALSE  1     \n",
       "1649544 0.4640120    FALSE  1     \n",
       "1649545 0.4383546    FALSE  1     \n",
       "1649546 0.4074942     TRUE  1     \n",
       "1649547 0.4543430    FALSE  1     \n",
       "1649548 0.4126820    FALSE  1     \n",
       "1649549 0.4526061     TRUE  1     \n",
       "1649550 0.4334783    FALSE  1     \n",
       "1649551 0.4415566    FALSE  1     \n",
       "1649552 0.4701923    FALSE  1     \n",
       "1649553 0.4438869    FALSE  1     \n",
       "1649554 0.4544155    FALSE  1     \n",
       "1649555 0.4662708    FALSE  1     \n",
       "1649556 0.4416005     TRUE  1     \n",
       "1649557 0.4371556    FALSE  1     \n",
       "1649558 0.4799905     TRUE  1     "
      ]
     },
     "metadata": {},
     "output_type": "display_data"
    }
   ],
   "source": [
    "data"
   ]
  },
  {
   "cell_type": "code",
   "execution_count": 48,
   "metadata": {},
   "outputs": [
    {
     "data": {
      "text/html": [
       "0.673062117245953"
      ],
      "text/latex": [
       "0.673062117245953"
      ],
      "text/markdown": [
       "0.673062117245953"
      ],
      "text/plain": [
       "[1] 0.6730621"
      ]
     },
     "metadata": {},
     "output_type": "display_data"
    }
   ],
   "source": [
    "sum(data$pr_bin)/nrow(data)"
   ]
  },
  {
   "cell_type": "markdown",
   "metadata": {},
   "source": [
    "# K-Means"
   ]
  },
  {
   "cell_type": "code",
   "execution_count": 50,
   "metadata": {},
   "outputs": [
    {
     "data": {
      "text/html": [
       "<ol class=list-inline>\n",
       "\t<li>'Month'</li>\n",
       "\t<li>'DayofMonth'</li>\n",
       "\t<li>'DayOfWeek'</li>\n",
       "\t<li>'DepTime'</li>\n",
       "\t<li>'UniqueCarrier'</li>\n",
       "\t<li>'DepDelay'</li>\n",
       "\t<li>'Origin'</li>\n",
       "\t<li>'Dest'</li>\n",
       "\t<li>'Distance'</li>\n",
       "\t<li>'Delayed'</li>\n",
       "\t<li>'UC'</li>\n",
       "\t<li>'From'</li>\n",
       "\t<li>'To'</li>\n",
       "</ol>\n"
      ],
      "text/latex": [
       "\\begin{enumerate*}\n",
       "\\item 'Month'\n",
       "\\item 'DayofMonth'\n",
       "\\item 'DayOfWeek'\n",
       "\\item 'DepTime'\n",
       "\\item 'UniqueCarrier'\n",
       "\\item 'DepDelay'\n",
       "\\item 'Origin'\n",
       "\\item 'Dest'\n",
       "\\item 'Distance'\n",
       "\\item 'Delayed'\n",
       "\\item 'UC'\n",
       "\\item 'From'\n",
       "\\item 'To'\n",
       "\\end{enumerate*}\n"
      ],
      "text/markdown": [
       "1. 'Month'\n",
       "2. 'DayofMonth'\n",
       "3. 'DayOfWeek'\n",
       "4. 'DepTime'\n",
       "5. 'UniqueCarrier'\n",
       "6. 'DepDelay'\n",
       "7. 'Origin'\n",
       "8. 'Dest'\n",
       "9. 'Distance'\n",
       "10. 'Delayed'\n",
       "11. 'UC'\n",
       "12. 'From'\n",
       "13. 'To'\n",
       "\n",
       "\n"
      ],
      "text/plain": [
       " [1] \"Month\"         \"DayofMonth\"    \"DayOfWeek\"     \"DepTime\"      \n",
       " [5] \"UniqueCarrier\" \"DepDelay\"      \"Origin\"        \"Dest\"         \n",
       " [9] \"Distance\"      \"Delayed\"       \"UC\"            \"From\"         \n",
       "[13] \"To\"           "
      ]
     },
     "metadata": {},
     "output_type": "display_data"
    }
   ],
   "source": [
    "names(training)"
   ]
  },
  {
   "cell_type": "code",
   "execution_count": 58,
   "metadata": {},
   "outputs": [
    {
     "name": "stdout",
     "output_type": "stream",
     "text": [
      "\r",
      "  |                                                                            \r",
      "  |                                                                      |   0%\r",
      "  |                                                                            \r",
      "  |=======                                                               |  10%\r",
      "  |                                                                            \r",
      "  |==============                                                        |  20%\r",
      "  |                                                                            \r",
      "  |=====================                                                 |  30%\r",
      "  |                                                                            \r",
      "  |============================                                          |  40%\r",
      "  |                                                                            \r",
      "  |===================================                                   |  50%\r",
      "  |                                                                            \r",
      "  |=================================================                     |  70%\r",
      "  |                                                                            \r",
      "  |========================================================              |  80%\r",
      "  |                                                                            \r",
      "  |===============================================================       |  90%\r",
      "  |                                                                            \r",
      "  |======================================================================| 100%\n"
     ]
    }
   ],
   "source": [
    "kmeans_model <- h2o.kmeans(training_frame = training, \n",
    "                           x = c(6,9),\n",
    "                           k = 5,\n",
    "                           seed = 1)"
   ]
  },
  {
   "cell_type": "code",
   "execution_count": 59,
   "metadata": {},
   "outputs": [
    {
     "data": {
      "text/html": [
       "<table>\n",
       "<thead><tr><th scope=col>depdelay</th><th scope=col>distance</th></tr></thead>\n",
       "<tbody>\n",
       "\t<tr><td>   1.487323</td><td>761.6374   </td></tr>\n",
       "\t<tr><td>1009.734127</td><td>963.1508   </td></tr>\n",
       "\t<tr><td> 264.655266</td><td>919.3419   </td></tr>\n",
       "\t<tr><td> 124.801706</td><td>832.6068   </td></tr>\n",
       "\t<tr><td>  47.692978</td><td>778.6291   </td></tr>\n",
       "</tbody>\n",
       "</table>\n"
      ],
      "text/latex": [
       "\\begin{tabular}{r|ll}\n",
       " depdelay & distance\\\\\n",
       "\\hline\n",
       "\t    1.487323 & 761.6374   \\\\\n",
       "\t 1009.734127 & 963.1508   \\\\\n",
       "\t  264.655266 & 919.3419   \\\\\n",
       "\t  124.801706 & 832.6068   \\\\\n",
       "\t   47.692978 & 778.6291   \\\\\n",
       "\\end{tabular}\n"
      ],
      "text/markdown": [
       "\n",
       "depdelay | distance | \n",
       "|---|---|---|---|---|\n",
       "|    1.487323 | 761.6374    | \n",
       "| 1009.734127 | 963.1508    | \n",
       "|  264.655266 | 919.3419    | \n",
       "|  124.801706 | 832.6068    | \n",
       "|   47.692978 | 778.6291    | \n",
       "\n",
       "\n"
      ],
      "text/plain": [
       "  depdelay    distance\n",
       "1    1.487323 761.6374\n",
       "2 1009.734127 963.1508\n",
       "3  264.655266 919.3419\n",
       "4  124.801706 832.6068\n",
       "5   47.692978 778.6291"
      ]
     },
     "metadata": {},
     "output_type": "display_data"
    }
   ],
   "source": [
    "# print the cluster centers\n",
    "h2o.centers(kmeans_model)"
   ]
  },
  {
   "cell_type": "code",
   "execution_count": 60,
   "metadata": {},
   "outputs": [
    {
     "data": {
      "text/html": [
       "<table>\n",
       "<thead><tr><th scope=col>centroid</th><th scope=col>size</th><th scope=col>within_cluster_sum_of_squares</th></tr></thead>\n",
       "<tbody>\n",
       "\t<tr><td>1         </td><td>3303294   </td><td>3428910.69</td></tr>\n",
       "\t<tr><td>2         </td><td>    504   </td><td>  35232.31</td></tr>\n",
       "\t<tr><td>3         </td><td>  17338   </td><td>  93860.25</td></tr>\n",
       "\t<tr><td>4         </td><td> 107991   </td><td> 195480.21</td></tr>\n",
       "\t<tr><td>5         </td><td> 416872   </td><td> 522278.92</td></tr>\n",
       "</tbody>\n",
       "</table>\n"
      ],
      "text/latex": [
       "\\begin{tabular}{r|lll}\n",
       " centroid & size & within\\_cluster\\_sum\\_of\\_squares\\\\\n",
       "\\hline\n",
       "\t 1          & 3303294    & 3428910.69\\\\\n",
       "\t 2          &     504    &   35232.31\\\\\n",
       "\t 3          &   17338    &   93860.25\\\\\n",
       "\t 4          &  107991    &  195480.21\\\\\n",
       "\t 5          &  416872    &  522278.92\\\\\n",
       "\\end{tabular}\n"
      ],
      "text/markdown": [
       "\n",
       "centroid | size | within_cluster_sum_of_squares | \n",
       "|---|---|---|---|---|\n",
       "| 1          | 3303294    | 3428910.69 | \n",
       "| 2          |     504    |   35232.31 | \n",
       "| 3          |   17338    |   93860.25 | \n",
       "| 4          |  107991    |  195480.21 | \n",
       "| 5          |  416872    |  522278.92 | \n",
       "\n",
       "\n"
      ],
      "text/plain": [
       "  centroid size    within_cluster_sum_of_squares\n",
       "1 1        3303294 3428910.69                   \n",
       "2 2            504   35232.31                   \n",
       "3 3          17338   93860.25                   \n",
       "4 4         107991  195480.21                   \n",
       "5 5         416872  522278.92                   "
      ]
     },
     "metadata": {},
     "output_type": "display_data"
    }
   ],
   "source": [
    "# print the centroid statistics\n",
    "h2o.centroid_stats(kmeans_model)"
   ]
  },
  {
   "cell_type": "code",
   "execution_count": null,
   "metadata": {
    "collapsed": true
   },
   "outputs": [],
   "source": []
  },
  {
   "cell_type": "code",
   "execution_count": null,
   "metadata": {
    "collapsed": true
   },
   "outputs": [],
   "source": []
  }
 ],
 "metadata": {
  "kernelspec": {
   "display_name": "R",
   "language": "R",
   "name": "ir"
  },
  "language_info": {
   "codemirror_mode": "r",
   "file_extension": ".r",
   "mimetype": "text/x-r-source",
   "name": "R",
   "pygments_lexer": "r",
   "version": "3.4.0"
  }
 },
 "nbformat": 4,
 "nbformat_minor": 2
}
